{
 "cells": [
  {
   "cell_type": "code",
   "execution_count": 2,
   "id": "18c06ae7",
   "metadata": {},
   "outputs": [],
   "source": [
    "# Required libraries\n",
    "import pandas as pd\n",
    "import numpy as np\n",
    "import matplotlib.pyplot as plt\n",
    "\n",
    "from sklearn.ensemble import IsolationForest\n",
    "from sklearn.preprocessing import StandardScaler"
   ]
  },
  {
   "cell_type": "markdown",
   "id": "9d9af629",
   "metadata": {},
   "source": [
    "### Data Collection\n",
    "\n",
    "All of the data files used in this project was downloaded from the following webpage:\n",
    "\n",
    "https://www.nyc.gov/site/tlc/about/tlc-trip-record-data.page"
   ]
  },
  {
   "cell_type": "code",
   "execution_count": 3,
   "id": "3ddec3f9",
   "metadata": {},
   "outputs": [],
   "source": [
    "# Load trip data and location lookup table to dataframes\n",
    "trip_df = pd.read_parquet('./data/yellow_tripdata_2025-01.parquet')\n",
    "taxi_zone_df = pd.read_csv('./data/taxi_zone_lookup.csv')\n",
    "\n",
    "# Additional Data Source \n",
    "# https://www.nyc.gov/assets/tlc/downloads/pdf/data_dictionary_trip_records_yellow.pdf\n",
    "# payment_type : A numeric code signifying how the passenger paid for the trip.\n",
    "payment_type_lookup = {\n",
    "    0:'Flex Fare trip',\n",
    "    1:'Credit card',\n",
    "    2:'Cash',\n",
    "    3:'No charge',\n",
    "    4:'Dispute',\n",
    "    5:'Unknown',\n",
    "    6:'Voided trip',\n",
    "}"
   ]
  },
  {
   "cell_type": "code",
   "execution_count": 4,
   "id": "6971a88a",
   "metadata": {},
   "outputs": [
    {
     "name": "stdout",
     "output_type": "stream",
     "text": [
      "(3475226, 25)\n"
     ]
    },
    {
     "data": {
      "text/html": [
       "<div>\n",
       "<style scoped>\n",
       "    .dataframe tbody tr th:only-of-type {\n",
       "        vertical-align: middle;\n",
       "    }\n",
       "\n",
       "    .dataframe tbody tr th {\n",
       "        vertical-align: top;\n",
       "    }\n",
       "\n",
       "    .dataframe thead th {\n",
       "        text-align: right;\n",
       "    }\n",
       "</style>\n",
       "<table border=\"1\" class=\"dataframe\">\n",
       "  <thead>\n",
       "    <tr style=\"text-align: right;\">\n",
       "      <th></th>\n",
       "      <th>VendorID</th>\n",
       "      <th>tpep_pickup_datetime</th>\n",
       "      <th>tpep_dropoff_datetime</th>\n",
       "      <th>passenger_count</th>\n",
       "      <th>trip_distance</th>\n",
       "      <th>RatecodeID</th>\n",
       "      <th>store_and_fwd_flag</th>\n",
       "      <th>payment_type</th>\n",
       "      <th>fare_amount</th>\n",
       "      <th>extra</th>\n",
       "      <th>...</th>\n",
       "      <th>congestion_surcharge</th>\n",
       "      <th>airport_fee</th>\n",
       "      <th>PU_LocationID</th>\n",
       "      <th>PU_Borough</th>\n",
       "      <th>PU_Zone</th>\n",
       "      <th>PU_service_zone</th>\n",
       "      <th>DO_LocationID</th>\n",
       "      <th>DO_Borough</th>\n",
       "      <th>DO_Zone</th>\n",
       "      <th>DO_service_zone</th>\n",
       "    </tr>\n",
       "  </thead>\n",
       "  <tbody>\n",
       "    <tr>\n",
       "      <th>0</th>\n",
       "      <td>1</td>\n",
       "      <td>2025-01-01 00:18:38</td>\n",
       "      <td>2025-01-01 00:26:59</td>\n",
       "      <td>1.0</td>\n",
       "      <td>1.60</td>\n",
       "      <td>1.0</td>\n",
       "      <td>N</td>\n",
       "      <td>1</td>\n",
       "      <td>10.0</td>\n",
       "      <td>3.5</td>\n",
       "      <td>...</td>\n",
       "      <td>2.5</td>\n",
       "      <td>0.0</td>\n",
       "      <td>229</td>\n",
       "      <td>Manhattan</td>\n",
       "      <td>Sutton Place/Turtle Bay North</td>\n",
       "      <td>Yellow Zone</td>\n",
       "      <td>237</td>\n",
       "      <td>Manhattan</td>\n",
       "      <td>Upper East Side South</td>\n",
       "      <td>Yellow Zone</td>\n",
       "    </tr>\n",
       "    <tr>\n",
       "      <th>1</th>\n",
       "      <td>1</td>\n",
       "      <td>2025-01-01 00:32:40</td>\n",
       "      <td>2025-01-01 00:35:13</td>\n",
       "      <td>1.0</td>\n",
       "      <td>0.50</td>\n",
       "      <td>1.0</td>\n",
       "      <td>N</td>\n",
       "      <td>1</td>\n",
       "      <td>5.1</td>\n",
       "      <td>3.5</td>\n",
       "      <td>...</td>\n",
       "      <td>2.5</td>\n",
       "      <td>0.0</td>\n",
       "      <td>236</td>\n",
       "      <td>Manhattan</td>\n",
       "      <td>Upper East Side North</td>\n",
       "      <td>Yellow Zone</td>\n",
       "      <td>237</td>\n",
       "      <td>Manhattan</td>\n",
       "      <td>Upper East Side South</td>\n",
       "      <td>Yellow Zone</td>\n",
       "    </tr>\n",
       "    <tr>\n",
       "      <th>2</th>\n",
       "      <td>1</td>\n",
       "      <td>2025-01-01 00:44:04</td>\n",
       "      <td>2025-01-01 00:46:01</td>\n",
       "      <td>1.0</td>\n",
       "      <td>0.60</td>\n",
       "      <td>1.0</td>\n",
       "      <td>N</td>\n",
       "      <td>1</td>\n",
       "      <td>5.1</td>\n",
       "      <td>3.5</td>\n",
       "      <td>...</td>\n",
       "      <td>2.5</td>\n",
       "      <td>0.0</td>\n",
       "      <td>141</td>\n",
       "      <td>Manhattan</td>\n",
       "      <td>Lenox Hill West</td>\n",
       "      <td>Yellow Zone</td>\n",
       "      <td>141</td>\n",
       "      <td>Manhattan</td>\n",
       "      <td>Lenox Hill West</td>\n",
       "      <td>Yellow Zone</td>\n",
       "    </tr>\n",
       "    <tr>\n",
       "      <th>3</th>\n",
       "      <td>2</td>\n",
       "      <td>2025-01-01 00:14:27</td>\n",
       "      <td>2025-01-01 00:20:01</td>\n",
       "      <td>3.0</td>\n",
       "      <td>0.52</td>\n",
       "      <td>1.0</td>\n",
       "      <td>N</td>\n",
       "      <td>2</td>\n",
       "      <td>7.2</td>\n",
       "      <td>1.0</td>\n",
       "      <td>...</td>\n",
       "      <td>0.0</td>\n",
       "      <td>0.0</td>\n",
       "      <td>244</td>\n",
       "      <td>Manhattan</td>\n",
       "      <td>Washington Heights South</td>\n",
       "      <td>Boro Zone</td>\n",
       "      <td>244</td>\n",
       "      <td>Manhattan</td>\n",
       "      <td>Washington Heights South</td>\n",
       "      <td>Boro Zone</td>\n",
       "    </tr>\n",
       "    <tr>\n",
       "      <th>4</th>\n",
       "      <td>2</td>\n",
       "      <td>2025-01-01 00:21:34</td>\n",
       "      <td>2025-01-01 00:25:06</td>\n",
       "      <td>3.0</td>\n",
       "      <td>0.66</td>\n",
       "      <td>1.0</td>\n",
       "      <td>N</td>\n",
       "      <td>2</td>\n",
       "      <td>5.8</td>\n",
       "      <td>1.0</td>\n",
       "      <td>...</td>\n",
       "      <td>0.0</td>\n",
       "      <td>0.0</td>\n",
       "      <td>244</td>\n",
       "      <td>Manhattan</td>\n",
       "      <td>Washington Heights South</td>\n",
       "      <td>Boro Zone</td>\n",
       "      <td>116</td>\n",
       "      <td>Manhattan</td>\n",
       "      <td>Hamilton Heights</td>\n",
       "      <td>Boro Zone</td>\n",
       "    </tr>\n",
       "  </tbody>\n",
       "</table>\n",
       "<p>5 rows × 25 columns</p>\n",
       "</div>"
      ],
      "text/plain": [
       "   VendorID tpep_pickup_datetime tpep_dropoff_datetime  passenger_count  \\\n",
       "0         1  2025-01-01 00:18:38   2025-01-01 00:26:59              1.0   \n",
       "1         1  2025-01-01 00:32:40   2025-01-01 00:35:13              1.0   \n",
       "2         1  2025-01-01 00:44:04   2025-01-01 00:46:01              1.0   \n",
       "3         2  2025-01-01 00:14:27   2025-01-01 00:20:01              3.0   \n",
       "4         2  2025-01-01 00:21:34   2025-01-01 00:25:06              3.0   \n",
       "\n",
       "   trip_distance  RatecodeID store_and_fwd_flag  payment_type  fare_amount  \\\n",
       "0           1.60         1.0                  N             1         10.0   \n",
       "1           0.50         1.0                  N             1          5.1   \n",
       "2           0.60         1.0                  N             1          5.1   \n",
       "3           0.52         1.0                  N             2          7.2   \n",
       "4           0.66         1.0                  N             2          5.8   \n",
       "\n",
       "   extra  ...  congestion_surcharge  airport_fee  PU_LocationID  PU_Borough  \\\n",
       "0    3.5  ...                   2.5          0.0            229   Manhattan   \n",
       "1    3.5  ...                   2.5          0.0            236   Manhattan   \n",
       "2    3.5  ...                   2.5          0.0            141   Manhattan   \n",
       "3    1.0  ...                   0.0          0.0            244   Manhattan   \n",
       "4    1.0  ...                   0.0          0.0            244   Manhattan   \n",
       "\n",
       "                         PU_Zone  PU_service_zone  DO_LocationID  DO_Borough  \\\n",
       "0  Sutton Place/Turtle Bay North      Yellow Zone            237   Manhattan   \n",
       "1          Upper East Side North      Yellow Zone            237   Manhattan   \n",
       "2                Lenox Hill West      Yellow Zone            141   Manhattan   \n",
       "3       Washington Heights South        Boro Zone            244   Manhattan   \n",
       "4       Washington Heights South        Boro Zone            116   Manhattan   \n",
       "\n",
       "                    DO_Zone DO_service_zone  \n",
       "0     Upper East Side South     Yellow Zone  \n",
       "1     Upper East Side South     Yellow Zone  \n",
       "2           Lenox Hill West     Yellow Zone  \n",
       "3  Washington Heights South       Boro Zone  \n",
       "4          Hamilton Heights       Boro Zone  \n",
       "\n",
       "[5 rows x 25 columns]"
      ]
     },
     "execution_count": 4,
     "metadata": {},
     "output_type": "execute_result"
    }
   ],
   "source": [
    "# Merge location data for PU and DO locations\n",
    "df = trip_df.merge(\n",
    "    taxi_zone_df,\n",
    "    how='left',\n",
    "    left_on='PULocationID',\n",
    "    right_on='LocationID'\n",
    ").rename(columns=lambda col: col if col in trip_df.columns else f\"PU_{col}\")\n",
    "\n",
    "df = df.merge(\n",
    "    taxi_zone_df,\n",
    "    how='left',\n",
    "    left_on='DOLocationID',\n",
    "    right_on='LocationID'\n",
    ").rename(columns=lambda col: col if col in df.columns else f\"DO_{col}\")\n",
    "df = df.drop(columns=['PULocationID','DOLocationID'])\n",
    "df = df.rename(columns = {'Airport_fee':'airport_fee'})\n",
    "print(df.shape)\n",
    "df.head()"
   ]
  },
  {
   "cell_type": "code",
   "execution_count": 5,
   "id": "46d2fe77",
   "metadata": {},
   "outputs": [],
   "source": [
    "# Filter for relevant features\n",
    "features = [\n",
    "    'VendorID', 'tpep_pickup_datetime', 'tpep_dropoff_datetime',\n",
    "    'passenger_count', 'trip_distance', 'RatecodeID', 'store_and_fwd_flag',\n",
    "    'payment_type', 'fare_amount', 'extra',\n",
    "    'mta_tax', 'tip_amount', 'tolls_amount', 'improvement_surcharge',\n",
    "    'total_amount', 'congestion_surcharge', 'airport_fee', \n",
    "    'PU_LocationID', 'PU_Borough', 'PU_Zone', 'PU_service_zone',\n",
    "    'DO_LocationID', 'DO_Borough', 'DO_Zone', 'DO_service_zone'\n",
    "]\n",
    "df = df[features].copy()\n",
    "\n",
    "# Convert datetime columns\n",
    "df['tpep_pickup_datetime'] = pd.to_datetime(df['tpep_pickup_datetime'])\n",
    "df['tpep_dropoff_datetime'] = pd.to_datetime(df['tpep_dropoff_datetime'])\n",
    "\n",
    "# Trip duration in minutes\n",
    "df['trip_duration'] = (df['tpep_dropoff_datetime'] - df['tpep_pickup_datetime']).dt.total_seconds() / 60"
   ]
  },
  {
   "cell_type": "markdown",
   "id": "d6b7c93f",
   "metadata": {},
   "source": [
    "### Rule Based Anomaly Detection"
   ]
  },
  {
   "cell_type": "code",
   "execution_count": 6,
   "id": "7af560af",
   "metadata": {},
   "outputs": [],
   "source": [
    "# RULE-BASED ANOMALY FLAGS\n",
    "df['anomaly_negative_fare'] = df['fare_amount'] < 0\n",
    "df['anomaly_zero_fare_long_trip'] = (df['fare_amount'] == 0) & (df['trip_distance'] > 1)\n",
    "df['anomaly_short_trip_high_fare'] = (df['fare_amount'] > 100) & (df['trip_distance'] < 1)\n",
    "df['anomaly_duration'] = (df['trip_duration'] < 1) | (df['trip_duration'] > 180)\n",
    "df['anomaly_tip_but_cash'] = (df['tip_amount'] > 0) & (df['payment_type'] == 2)  # 2 = cash\n",
    "df['anomaly_passenger_count'] = (df['passenger_count'] < 1) | (df['passenger_count'] > 6)\n",
    "df['anomaly_total_vs_fare'] = df['total_amount'] < df['fare_amount']\n",
    "df['anomaly_airport_fee_wrong_location'] = (df['airport_fee'] > 0) & (~df['PU_LocationID'].isin([1, 132, 138])) # Newark, JFK, LaGuardia"
   ]
  },
  {
   "cell_type": "code",
   "execution_count": 7,
   "id": "e2c2a587",
   "metadata": {},
   "outputs": [
    {
     "name": "stdout",
     "output_type": "stream",
     "text": [
      "Total records: 3475226\n",
      "Anomalous trips: 211138\n",
      "Percentage of Anomalous records: 6.08 %\n"
     ]
    }
   ],
   "source": [
    "# Count total anomalies\n",
    "anomaly_columns = [col for col in df.columns if col.startswith('anomaly_')]\n",
    "df['anomaly_score'] = df[anomaly_columns].sum(axis=1)\n",
    "df['is_anomaly'] = df['anomaly_score'] > 0\n",
    "\n",
    "# Show summary\n",
    "print(\"Total records:\", len(df))\n",
    "print(\"Anomalous trips:\", df['is_anomaly'].sum())\n",
    "print(\"Percentage of Anomalous records:\", round(df['is_anomaly'].sum() / len(df) * 100,2), '%')\n",
    "\n",
    "# save anomalies to .csv file\n",
    "df[df['is_anomaly']].to_csv(\"detected_taxi_anomalies.csv\", index=False)"
   ]
  },
  {
   "cell_type": "code",
   "execution_count": 8,
   "id": "76091a4e",
   "metadata": {},
   "outputs": [
    {
     "data": {
      "image/png": "[encoded data removed]",
      "text/plain": [
       "<Figure size 720x360 with 1 Axes>"
      ]
     },
     "metadata": {
      "needs_background": "light"
     },
     "output_type": "display_data"
    }
   ],
   "source": [
    "# Plotting\n",
    "plt.figure(figsize=(10, 5))\n",
    "df['fare_amount'].clip(lower=-50, upper=200).hist(bins=100)\n",
    "plt.axvline(100, color='red', linestyle='dashed', label='High Fare Threshold')\n",
    "plt.title(\"Fare Amount Distribution\")\n",
    "plt.xlabel(\"Fare Amount ($)\")\n",
    "plt.ylabel(\"Trip Count\")\n",
    "plt.legend()\n",
    "plt.grid()\n",
    "plt.show()\n",
    "\n"
   ]
  },
  {
   "cell_type": "code",
   "execution_count": 9,
   "id": "950554c2",
   "metadata": {},
   "outputs": [
    {
     "data": {
      "image/png": "[encoded data removed]",
      "text/plain": [
       "<Figure size 720x360 with 1 Axes>"
      ]
     },
     "metadata": {
      "needs_background": "light"
     },
     "output_type": "display_data"
    }
   ],
   "source": [
    "# Plotting\n",
    "plt.figure(figsize=(10, 5))\n",
    "df['trip_distance'].clip(lower=-1, upper=50).hist(bins=100)\n",
    "plt.axvline(1, color='red', linestyle='dashed', label='Non-Negligeable Trip Distance')\n",
    "plt.title(\"Trip Distance Distribution\")\n",
    "plt.xlabel(\"Trip Distance (mile)\")\n",
    "plt.ylabel(\"Trip Count\")\n",
    "plt.legend()\n",
    "plt.grid()\n",
    "plt.show()\n"
   ]
  },
  {
   "cell_type": "code",
   "execution_count": 10,
   "id": "0d6ba1e4",
   "metadata": {},
   "outputs": [
    {
     "data": {
      "image/png": "[encoded data removed]",
      "text/plain": [
       "<Figure size 720x360 with 1 Axes>"
      ]
     },
     "metadata": {
      "needs_background": "light"
     },
     "output_type": "display_data"
    }
   ],
   "source": [
    "# Plotting\n",
    "plt.figure(figsize=(10, 5))\n",
    "df['trip_duration'].clip(lower=-1, upper=200).hist(bins=100)\n",
    "plt.axvline(1, color='red', linestyle='dashed')\n",
    "plt.axvline(180, color='red', linestyle='dashed')\n",
    "plt.title(\"Trip Duration Distribution\")\n",
    "plt.xlabel(\"Trip Duration (minute)\")\n",
    "plt.ylabel(\"Trip Count\")\n",
    "plt.legend(['Trip Duration Anomaly Bounds'], loc = 'upper center')\n",
    "plt.grid()\n",
    "plt.show() \n"
   ]
  },
  {
   "cell_type": "markdown",
   "id": "8489e72a",
   "metadata": {},
   "source": [
    "### Isolation Forest"
   ]
  },
  {
   "cell_type": "code",
   "execution_count": 11,
   "id": "b0b78071",
   "metadata": {},
   "outputs": [
    {
     "name": "stdout",
     "output_type": "stream",
     "text": [
      "Anomalies detected by Isolation Forest: 29351\n",
      "Total combined anomalies (rules + ML): 231809\n"
     ]
    }
   ],
   "source": [
    "# Select numeric features for modeling\n",
    "ml_features = [\n",
    "    'trip_distance', 'trip_duration', 'fare_amount',\n",
    "    'tip_amount', 'total_amount', 'passenger_count'\n",
    "]\n",
    "\n",
    "# Drop NA and scale\n",
    "df_ml = df[ml_features].dropna()\n",
    "scaler = StandardScaler()\n",
    "X_scaled = scaler.fit_transform(df_ml)\n",
    "\n",
    "# Fit Isolation Forest\n",
    "iso = IsolationForest(n_estimators=100, contamination=0.01, random_state=42)\n",
    "df_ml['unsupervised_anomaly'] = iso.fit_predict(X_scaled)  # -1 is anomaly, 1 is normal\n",
    "df_ml['unsupervised_anomaly'] = df_ml['unsupervised_anomaly'] == -1  # convert to True/False\n",
    "\n",
    "# Map back to main dataframe by index\n",
    "df['unsupervised_anomaly'] = False\n",
    "df.loc[df_ml.index, 'unsupervised_anomaly'] = df_ml['unsupervised_anomaly']\n",
    "\n",
    "# Combine rule-based and ML-based\n",
    "df['final_anomaly'] = df['is_anomaly'] | df['unsupervised_anomaly']\n",
    "\n",
    "print(\"Anomalies detected by Isolation Forest:\", df['unsupervised_anomaly'].sum())\n",
    "print(\"Total combined anomalies (rules + ML):\", df['final_anomaly'].sum())\n",
    "\n",
    "# Save combined anomalies\n",
    "df[df['final_anomaly']].to_csv(\"final_detected_taxi_anomalies.csv\", index=False)\n"
   ]
  }
 ],
 "metadata": {
  "kernelspec": {
   "display_name": "Python 3 (ipykernel)",
   "language": "python",
   "name": "python3"
  },
  "language_info": {
   "codemirror_mode": {
    "name": "ipython",
    "version": 3
   },
   "file_extension": ".py",
   "mimetype": "text/x-python",
   "name": "python",
   "nbconvert_exporter": "python",
   "pygments_lexer": "ipython3",
   "version": "3.9.12"
  }
 },
 "nbformat": 4,
 "nbformat_minor": 5
}
